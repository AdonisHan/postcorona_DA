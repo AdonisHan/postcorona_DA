{
 "cells": [
  {
   "cell_type": "code",
   "execution_count": 1,
   "metadata": {},
   "outputs": [
    {
     "name": "stderr",
     "output_type": "stream",
     "text": [
      "Warning message:\n",
      "\"package 'ggplot2' was built under R version 3.6.3\""
     ]
    }
   ],
   "source": [
    "library(ggplot2)"
   ]
  },
  {
   "cell_type": "code",
   "execution_count": 7,
   "metadata": {},
   "outputs": [
    {
     "name": "stderr",
     "output_type": "stream",
     "text": [
      "Warning message:\n",
      "\"package 'rgdal' was built under R version 3.6.3\"Warning message:\n",
      "\"package 'sp' was built under R version 3.6.3\"Warning message:\n",
      "\"package 'ggmap' was built under R version 3.6.3\"Warning message:\n",
      "\"package 'ggplot2' was built under R version 3.6.3\"Warning message:\n",
      "\"package 'maptools' was built under R version 3.6.3\"Warning message:\n",
      "\"package 'viridis' was built under R version 3.6.3\"Warning message:\n",
      "\"package 'magrittr' was built under R version 3.6.3\"Warning message:\n",
      "\"package 'scales' was built under R version 3.6.3\"Warning message:\n",
      "\"package 'gridExtra' was built under R version 3.6.3\"Warning message:\n",
      "\"package 'data.table' was built under R version 3.6.3\"Warning message:\n",
      "\"package 'tidyverse' was built under R version 3.6.3\"Warning message:\n",
      "\"package 'tibble' was built under R version 3.6.3\"Warning message:\n",
      "\"package 'tidyr' was built under R version 3.6.3\"Warning message:\n",
      "\"package 'purrr' was built under R version 3.6.3\"Warning message:\n",
      "\"package 'dplyr' was built under R version 3.6.3\"Warning message:\n",
      "\"package 'lubridate' was built under R version 3.6.3\"Warning message:\n",
      "\"package 'factoextra' was built under R version 3.6.3\"Warning message:\n",
      "\"package 'tfplot' was built under R version 3.6.3\"Warning message:\n",
      "\"package 'tsfa' was built under R version 3.6.3\"Warning message:\n",
      "\"package 'dse' was built under R version 3.6.3\"Warning message:\n",
      "\"package 'EvalEst' was built under R version 3.6.3\"Warning message:\n",
      "\"package 'cluster' was built under R version 3.6.3\"Warning message:\n",
      "\"package 'IRdisplay' was built under R version 3.6.3\"Warning message:\n",
      "\"package 'extrafont' was built under R version 3.6.2\"Warning message:\n",
      "\"package 'showtext' was built under R version 3.6.3\"Warning message:\n",
      "\"package 'sysfonts' was built under R version 3.6.3\"Warning message:\n",
      "\"package 'showtextdb' was built under R version 3.6.3\""
     ]
    },
    {
     "data": {
      "text/html": [
       "'C:/postcorona_DA/data'"
      ],
      "text/latex": [
       "'C:/postcorona\\_DA/data'"
      ],
      "text/markdown": [
       "'C:/postcorona_DA/data'"
      ],
      "text/plain": [
       "[1] \"C:/postcorona_DA/data\""
      ]
     },
     "metadata": {},
     "output_type": "display_data"
    },
    {
     "name": "stderr",
     "output_type": "stream",
     "text": [
      "Warning message in OGRSpatialRef(dsn, layer, morphFromESRI = morphFromESRI, dumpSRS = dumpSRS, :\n",
      "\"Discarded datum International_Terrestrial_Reference_Frame_2000 in CRS definition: +proj=tmerc +lat_0=38 +lon_0=127.5 +k=0.9996 +x_0=1000000 +y_0=2000000 +ellps=GRS80 +units=m +no_defs\""
     ]
    },
    {
     "name": "stdout",
     "output_type": "stream",
     "text": [
      "OGR data source with driver: ESRI Shapefile \n",
      "Source: \"C:\\postcorona_DA\\data\\지도\\CTPRVN.shp\", layer: \"CTPRVN\"\n",
      "with 17 features\n",
      "It has 3 fields\n"
     ]
    },
    {
     "name": "stderr",
     "output_type": "stream",
     "text": [
      "Regions defined for each Polygons\n"
     ]
    },
    {
     "name": "stdout",
     "output_type": "stream",
     "text": [
      "'data.frame':\t811814 obs. of  7 variables:\n",
      " $ long : num  966987 966987 966961 966931 966902 ...\n",
      " $ lat  : num  1941111 1941111 1941130 1941165 1941188 ...\n",
      " $ order: int  1 2 3 4 5 6 7 8 9 10 ...\n",
      " $ hole : logi  FALSE FALSE FALSE FALSE FALSE FALSE ...\n",
      " $ piece: Factor w/ 2222 levels \"1\",\"2\",\"3\",\"4\",..: 1 1 1 1 1 1 1 1 1 1 ...\n",
      " $ id   : chr  \"0\" \"0\" \"0\" \"0\" ...\n",
      " $ group: Factor w/ 4724 levels \"0.1\",\"1.1\",\"1.2\",..: 1 1 1 1 1 1 1 1 1 1 ...\n"
     ]
    },
    {
     "name": "stderr",
     "output_type": "stream",
     "text": [
      "`summarise()` ungrouping output (override with `.groups` argument)\n"
     ]
    },
    {
     "data": {
      "image/png": "[encoded data removed]",
      "text/plain": [
       "plot without title"
      ]
     },
     "metadata": {},
     "output_type": "display_data"
    }
   ],
   "source": [
    "\n",
    "# 1 : preparation ---------------------------------------------------------\n",
    "suppressPackageStartupMessages({ \n",
    "  library(rgdal,warn.conflicts = FALSE, quietly = TRUE, verbose = FALSE)\n",
    "  library(ggmap,warn.conflicts = FALSE, quietly = TRUE, verbose = FALSE)\n",
    "  library(sp,warn.conflicts = FALSE, quietly = TRUE, verbose = FALSE)\n",
    "  library(maptools,warn.conflicts = FALSE, quietly = TRUE, verbose = FALSE)\n",
    "  library(viridis,warn.conflicts = FALSE, quietly = TRUE, verbose = FALSE)\n",
    "  library(magrittr,warn.conflicts = FALSE, quietly = TRUE, verbose = FALSE)\n",
    "  library(scales,warn.conflicts = FALSE, quietly = TRUE, verbose = FALSE)\n",
    "  library(gridExtra,warn.conflicts = FALSE, quietly = TRUE, verbose = FALSE)\n",
    "  library(data.table, warn.conflicts = FALSE, quietly = TRUE, verbose = FALSE)\n",
    "  library(tidyverse, warn.conflicts = FALSE, quietly = TRUE, verbose = FALSE)\n",
    "  library(lubridate, warn.conflicts = FALSE, quietly = TRUE, verbose = FALSE)\n",
    "  library(gridExtra, warn.conflicts = FALSE, quietly = TRUE, verbose = FALSE)\n",
    "  library(factoextra, warn.conflicts = FALSE, quietly = TRUE, verbose = FALSE)\n",
    "  library(tfplot, warn.conflicts = FALSE, quietly = TRUE, verbose = FALSE)\n",
    "  library(tsfa, warn.conflicts = FALSE, quietly = TRUE, verbose = FALSE)\n",
    "  library(factoextra, warn.conflicts = FALSE, quietly = TRUE, verbose = FALSE)\n",
    "  library(cluster, warn.conflicts = FALSE, quietly = TRUE, verbose = FALSE)\n",
    "  library(IRdisplay, warn.conflicts = FALSE, quietly = TRUE, verbose = FALSE)\n",
    "  library(foreign,warn.conflicts = FALSE, quietly = TRUE, verbose = FALSE)\n",
    "  library(extrafont,warn.conflicts = FALSE, quietly = TRUE, verbose = FALSE)\n",
    "  library(showtext,warn.conflicts = FALSE, quietly = TRUE, verbose = FALSE)\n",
    "  library(grid,warn.conflicts = FALSE, quietly = TRUE, verbose = FALSE)\n",
    "})\n",
    "\n",
    "\n",
    "setwd('C:/postcorona_DA/data')\n",
    "getwd()\n",
    "# 2 : EDA -----------------------------------------------------------------\n",
    "\n",
    "# 2-1 ---------------------------------------------------------------------\n",
    "# A. 코로나19 사태 기본 분석\n",
    "# 지역별, 나이대별, 성별 확진자 시각화\n",
    "# a. 지역별 확진자 시각화 해석\n",
    "# 지역별 확진자의 비율을 파악해 보도록 하겠습니다. \n",
    "# 먼저, 어떤 지역이 코로나 심각 지역인지 알아보기 위해 지역별 확진자의 수를 지도 위에 표시해 보도록 하겠습니다.\n",
    "\n",
    "# C:/postcorona_DA/data/ =>C:/postcorona_DA/data/\n",
    "\n",
    "#행정구역 지도를 가져와 줍니다.\n",
    "korea_map_shp = rgdal::readOGR(\"C:/postcorona_DA/data/지도/CTPRVN.shp\")\n",
    "korea_map = fortify(korea_map_shp)\n",
    "\n",
    "\n",
    "korea_map %>% str()\n",
    "\n",
    "#지역별 확진자 수를 지도에 표시하기 위해 확진자 수 데이터를 가져오고, 알맞게 전처리해 줍니다.\n",
    "\n",
    "TimeProvince <-fread('C:/postcorona_DA/data/COVID_19/TimeProvince.csv',\n",
    "                     stringsAsFactors=FALSE, \n",
    "                     encoding = \"UTF-8\")\n",
    "\n",
    "TimeProvince$date <- as.Date(TimeProvince$date)\n",
    "TimeProvince$date <- as.character(TimeProvince$date,'%m/%d')\n",
    "\n",
    "TimeProvince$province=TimeProvince$province %>% as.factor()\n",
    "\n",
    "confirm_added=TimeProvince %>%\n",
    "  group_by(province)%>% \n",
    "  summarize(N=max(confirmed))\n",
    "\n",
    "confirm_added$province=plyr::revalue(confirm_added$province,c(\"서울\"=\"0\",\"부산\"=\"1\",\"대구\"=\"2\",\n",
    "                                                              \"인천\"=\"3\",\"광주\"=\"4\",\"대전\"=\"5\",\n",
    "                                                              \"울산\"=\"6\",\"세종\"=\"7\",\"경기도\"=\"8\",\n",
    "                                                              \"강원도\"=\"9\",\"충청북도\"=\"10\",\"충청남도\"=\"11\",\n",
    "                                                              \"전라북도\"=\"12\",\"전라남도\"=\"13\",\"경상북도\"=\"14\",\n",
    "                                                              \"경상남도\"=\"15\",\"제주도\"=\"16\"))\n",
    "\n",
    "\n",
    "colnames(confirm_added)<-c(\"id\",\"confirmed\")\n",
    "\n",
    "\n",
    "# 2-2 확진자 + 지도데이터 ---------------------------------------------------------\n",
    "\n",
    "# 지도 데이터와 확진자 수 데이터를 해당하는 지역에 알맞게 병합하고, 지도에 나타내 줍니다.\n",
    "# 각 지역별로 확진자 수를 넣고, 심각도에 따라 진한 색으로 나타내어 주었습니다.\n",
    "# 서울, 경기, 경북, 그리고 대구가 코로나 19 확진자가 가장 많은 심각 지역인 것으로 보입니다.\n",
    "\n",
    "korea_map=merge(korea_map,confirm_added, by=\"id\")\n",
    "mycorona=ggplot() + geom_polygon(data=korea_map, aes(x=long, y=lat, group=group, fill=confirmed))\n",
    "mycorona+scale_fill_gradient(low = \"#F1C5C5\", high = \"#D92027\")+ \n",
    "  theme_bw() +\n",
    "  theme(panel.grid.major.x = element_blank(), panel.grid.minor.x = element_blank(), \n",
    "        panel.grid.major.y = element_blank(), panel.grid.minor.y = element_blank(), \n",
    "        plot.title = element_text(face = \"bold\", size = 18, hjust = 0.5))\n",
    "\n",
    "\n",
    "\n",
    "\n",
    "\n"
   ]
  },
  {
   "cell_type": "code",
   "execution_count": 3,
   "metadata": {},
   "outputs": [
    {
     "data": {
      "text/html": [
       "'C:/Users/familyhan/Documents/postcorona_DA'"
      ],
      "text/latex": [
       "'C:/Users/familyhan/Documents/postcorona\\_DA'"
      ],
      "text/markdown": [
       "'C:/Users/familyhan/Documents/postcorona_DA'"
      ],
      "text/plain": [
       "[1] \"C:/Users/familyhan/Documents/postcorona_DA\""
      ]
     },
     "metadata": {},
     "output_type": "display_data"
    }
   ],
   "source": [
    "getwd()"
   ]
  },
  {
   "cell_type": "markdown",
   "metadata": {},
   "source": [
    "## b. 나이대별,성별 확진자 시각화 해석\n",
    "- 나이대별로는 20대, 50대가 가장 누적 확진자수가 가장 많고, 그 다음으로는 40, 60, 30 대 순으로 많았습니다.\n",
    "- (index데이터에 있는 나이대와 동일하게 20대에서 60대만 확인했보았습니다.)\n",
    "성별 확진자 시각화녀 확진자수 비율은 비슷하나, 여성이 좀 더 많음을 알 수 있습니다."
   ]
  },
  {
   "cell_type": "code",
   "execution_count": 12,
   "metadata": {},
   "outputs": [],
   "source": [
    "#전처리\n",
    "\n",
    "age <- fread('C:/Users/familyhan/Documents/postcorona_DA/data/COVID_19/TimeAge.csv',\n",
    "             stringsAsFactors=FALSE,\n",
    "             data.table=FALSE,\n",
    "             encoding = \"UTF-8\")\n",
    "age <- age[age$date == '2020-06-30',] \n",
    "age <- age[c(3:7),]\n"
   ]
  },
  {
   "cell_type": "markdown",
   "metadata": {},
   "source": [
    "#### #plot_age"
   ]
  },
  {
   "cell_type": "code",
   "execution_count": 13,
   "metadata": {},
   "outputs": [],
   "source": [
    "c <-ggplot(age, aes(x = \"\", y = confirmed, fill = age)) + \n",
    "  geom_bar(width = 1, stat = \"identity\", color = \"white\") +\n",
    "  coord_polar(\"y\") +\n",
    "  geom_text(aes(label = paste0(age,\"\\n\",round(confirmed/128,1),\"%\")), \n",
    "           position = position_stack(vjust = 0.5),color = \"white\") +\n",
    "  scale_fill_manual(values = c(\"#CD0000\",\"#F06E6E\",\"#D25A5A\",\"#CD4646\",\"#FF7878\",\"#F4A0A0\",\"#FA8282\")) +\n",
    "  theme_void()   +\n",
    "  theme(text =element_text(face = \"bold\"))"
   ]
  },
  {
   "cell_type": "markdown",
   "metadata": {},
   "source": [
    "### #plot_gender"
   ]
  },
  {
   "cell_type": "code",
   "execution_count": 14,
   "metadata": {},
   "outputs": [
    {
     "data": {
      "image/png": "[encoded data removed]",
      "text/plain": [
       "plot without title"
      ]
     },
     "metadata": {},
     "output_type": "display_data"
    }
   ],
   "source": [
    "\n",
    "gender <- fread('COVID_19/TimeGender.csv', stringsAsFactors=FALSE,data.table=FALSE, encoding = \"UTF-8\")\n",
    "\n",
    "gender <- gender[gender$date == '2020-06-30',]\n",
    "\n",
    "d <-ggplot(gender, aes(x = \"\", y = confirmed, fill = sex)) + \n",
    "  geom_bar(width = 1, stat = \"identity\", color = \"white\") +\n",
    "  coord_polar(\"y\") +\n",
    "  geom_text(aes(label = paste0(sex,\"\\n\",round(confirmed/128,1),\"%\")), \n",
    "           position = position_stack(vjust = 0.5),color = \"white\") +\n",
    "  scale_fill_manual(values = c(\"#45556b\",\"#637a9a\")) +\n",
    "  theme_void() +theme(text =element_text(face = \"bold\"))\n",
    "\n",
    "grid.arrange(c,d, nrow=2, top = textGrob(\"나이대 및 성별 누적확진자 비율\",gp=gpar(fontsize=20,font=2)))  \n"
   ]
  },
  {
   "cell_type": "markdown",
   "metadata": {},
   "source": [
    "## 실확진자 추이 및 유동인구 추이 시각화\n",
    "-  a. 실확진자 추이 시각화\n",
    "- 이를 통해 2020년 2월 29일에 신천지 코로나 확산으로 인해 가장 실확진자 수가 많았고, 5월 2일에 가장 적었음을 알 수 있습니다.\n",
    "- 줄어가는 추세이긴 하지만 종종 특정 사건들로 인해 확진자수가 늘어나기도 하는 상황임을 알"
   ]
  },
  {
   "cell_type": "code",
   "execution_count": 15,
   "metadata": {},
   "outputs": [
    {
     "name": "stdout",
     "output_type": "stream",
     "text": [
      "'data.frame':\t163 obs. of  7 variables:\n",
      " $ date     : Date, format: \"2020-01-20\" \"2020-01-21\" ...\n",
      " $ time     : int  16 16 16 16 16 16 16 16 16 16 ...\n",
      " $ test     : int  1 1 4 22 27 27 51 61 116 187 ...\n",
      " $ negative : int  0 0 3 21 25 25 47 56 97 155 ...\n",
      " $ confirmed: int  1 1 1 1 2 2 3 4 4 4 ...\n",
      " $ released : int  0 0 0 0 0 0 0 0 0 0 ...\n",
      " $ deceased : int  0 0 0 0 0 0 0 0 0 0 ...\n"
     ]
    }
   ],
   "source": [
    "##### 전처리\n",
    "\n",
    "Time <-fread('COVID_19/Time.csv', stringsAsFactors=FALSE,data.table=FALSE, encoding = \"UTF-8\")\n",
    "Time$date <- as.Date(Time$date)\n",
    "str(Time)\n",
    "\n",
    "c <- c(rep(0,163))\n",
    "c[1] <- 1\n",
    "for (i in 2:length(Time$confirmed)){\n",
    "  if (Time$confirmed[i] - Time$confirmed[i-1] > 0) {\n",
    "    c[i] <- Time$confirmed[i] - Time$confirmed[i-1]\n",
    "  }else{\n",
    "    c[i] <- 0\n",
    "  }\n",
    "}\n",
    "\n",
    "Time <- cbind(Time, c)"
   ]
  },
  {
   "cell_type": "code",
   "execution_count": 16,
   "metadata": {},
   "outputs": [
    {
     "name": "stderr",
     "output_type": "stream",
     "text": [
      "Warning message:\n",
      "\"Use of `Time$date` is discouraged. Use `date` instead.\"Warning message:\n",
      "\"Use of `Time$c` is discouraged. Use `c` instead.\"Warning message:\n",
      "\"Use of `Time$date` is discouraged. Use `date` instead.\""
     ]
    },
    {
     "data": {
      "image/png": "[encoded data removed]",
      "text/plain": [
       "plot without title"
      ]
     },
     "metadata": {},
     "output_type": "display_data"
    }
   ],
   "source": [
    "#plot \n",
    "\n",
    "ggplot(Time, aes(x =date, y = `c`)) + geom_line(color='#c00000', size = 0.9) + coord_fixed(ratio = 0.1) +\n",
    " theme(panel.background = element_rect(fill = \"#dee3eb\" , color = \"#6a6a6a\"),plot.background = element_rect(fill = \"white\",\n",
    "                                size = 0.5, linetype = \"solid\"),panel.grid.major = element_line(color = \"white\"),\n",
    "      plot.title = element_text(face = \"bold\",hjust = 0.5, size =20),text =element_text(face = \"bold\", size =15)) +\n",
    " ggtitle(\"COVID-19 실확진자수 추이\") +  xlab(\"date(month)\") + ylab(\"실확진자수(명)\")+\n",
    " geom_point(mapping =aes(x =Time$date[which.max(Time$`c`)] ,y = 813 ), color=\"black\", size =2.5)+ \n",
    " annotate(\"text\", x=Time$date[which.max(Time$`c`)], y=813,fontface=2,label=\"\\n2020-02-29(813명)\\n이유 : 신천지 집단감염\",hjust = 1.1, size = 4.6 , color = \"#1E3269\") +\n",
    " geom_point(mapping =aes(x =Time$date[104] ,y = 2 ), color=\"black\", size =2.5) +\n",
    " annotate(\"text\", x=Time$date[104], y=2, label=\"2020-05-02(2명)\\n\\n\\n\", size = 5 ,fontface=2, color = \"#1E3269\") +\n",
    " geom_hline(yintercept=78.53, linetype='dashed', color='#FA8282', size=0.7,alpha = 0.7)+\n",
    " annotate(\"text\", x=Time$date[5], y=120, label=\"평균(약 78명)\", size = 4 , fontface=2, color = \"#D25A5A\")"
   ]
  },
  {
   "cell_type": "markdown",
   "metadata": {},
   "source": [
    "#### b. 유동인구 추이 시각화\n",
    "- 다음으로는 유동인구 데이터(fpopl)를 이용하여, 주별 유동인구 평균 데이터를 만들어 주별 실확진자 수 추이와 비교해보았습니다.\n",
    "\n",
    "##### 결 과\n",
    "- 실확진자 수가 가장 많았던 시기에(신천지로 인한 확산)에 유동인구가 줄었고, 그 이후에는 유동인구가 점점 증가하였습니다.\n",
    "- 따라서 대중의 오프라인 활동과 코로나 확진자 수는 상관관계가 있으며,확진자가 상대적으로 감소한 현재는 다소 경각심이 해이해진 경향을 보인다고 해석할 수 있습니다."
   ]
  },
  {
   "cell_type": "code",
   "execution_count": 17,
   "metadata": {},
   "outputs": [],
   "source": [
    "#전처리\n",
    "#1. fpopl data 를 주별 유동인구 평균 데이터로 전처리\n",
    "fpopl <-fread('fpopl.csv', stringsAsFactors=FALSE,data.table=FALSE, encoding = \"UTF-8\")\n",
    "fpopl %<>% select(base_ymd,adstrd_code,popltn_cascnt)\n",
    "code <-fread('adstrd_master.csv', stringsAsFactors=FALSE,data.table=FALSE, encoding = \"UTF-8\")\n",
    "code %<>% select(adstrd_code,signgu_nm)\n",
    "\n",
    "doraga <- left_join(fpopl,code,by=\"adstrd_code\")\n",
    "doraga %<>% select(-adstrd_code)\n",
    "doraga$base_ymd <- as.character(doraga$base_ymd)\n",
    "doraga$base_ymd <- as.Date(doraga$base_ymd,\"%Y%m%d\")\n",
    "doraga$base_ymd <- week(doraga$base_ymd)\n",
    "\n",
    "\n",
    "week <- c(1:24)\n",
    "fpopl_mean <- c(rep(0,24))\n",
    "df <- data.frame(week,fpopl_mean)\n",
    "\n",
    "\n",
    "for (i in 1:24){\n",
    "  a <- doraga %>% filter(base_ymd == i) %>% summarise(n=mean(popltn_cascnt))\n",
    "  df$fpopl_mean[i] <- a$n\n",
    "}"
   ]
  },
  {
   "cell_type": "code",
   "execution_count": 18,
   "metadata": {},
   "outputs": [
    {
     "name": "stderr",
     "output_type": "stream",
     "text": [
      "`summarise()` ungrouping output (override with `.groups` argument)\n"
     ]
    },
    {
     "data": {
      "image/png": "[encoded data removed]",
      "text/plain": [
       "plot without title"
      ]
     },
     "metadata": {},
     "output_type": "display_data"
    }
   ],
   "source": [
    "#2. 전처리한 유동인구 데이터와 실확진자 수 비교를 위해time 데이터와 병합\n",
    "\n",
    "Time$date <- week(Time$date)\n",
    "Time %<>% group_by(date) %>% summarize(c_mean= mean(c)) %>% unique()\n",
    "colnames(Time) <- c(\"week\",\"c_mean\")\n",
    "\n",
    "time_fpopl <- plyr::join(Time, df, by = \"week\")\n",
    "time_fpopl <- time_fpopl[time_fpopl$week <= 24,] \n",
    "\n",
    "#plot \n",
    "period <-data.frame(시기 = c(\"2\"),start =c(8), end=c(11))\n",
    "ggplot() +\n",
    "  geom_bar(data=time_fpopl, aes(x = week, y = fpopl_mean*2 ,color = \"유동인구 수\") ,fill = '#1E3269',alpha= 0.3,stat =\"identity\", position=\"dodge\")+ \n",
    "  ylab(\"명\") +geom_smooth(data=time_fpopl, aes(x = week, y = fpopl_mean*2),method = 'loess', formula ='y ~ x',span = 0.3, color = \"#ff8888\",size = 0.9,se =F, linetype= \"dashed\")+\n",
    "  geom_line(data=time_fpopl, aes(x = week, y = c_mean, color = \"실확진자 수\"),size =0.9)+\n",
    "  scale_colour_manual(\"\", values=c(\"실확진자 수\" = \"#c00000\", \"유동인구 수\" = \"#1E3269\"))  + coord_fixed(ratio = 0.025) +\n",
    "  theme(panel.background = element_rect(fill = \"#dee3eb\" , color = \"black\"),plot.background = element_rect(fill = \"white\",\n",
    "                                size = 0.5, linetype = \"solid\"),legend.position=\"bottom\", plot.title = element_text(face = \"bold\",hjust = 0.5, size =20),\n",
    "        text = element_text(face = \"bold\",hjust = 0.5, size =15)) +\n",
    "  ggtitle(\"주 단위 실확진자와 유동인구 추이 비교\")+\n",
    "  scale_y_continuous(\n",
    "    \n",
    "    # Features of the first axis\n",
    "    name = \"주별 평균 실확진자 수\",\n",
    "    \n",
    "    # Add a second axis and specify its features\n",
    "    sec.axis = sec_axis(~./2, name=\"주별 평균 유동인구 수\")\n",
    "  )+\n",
    " geom_rect(data=period, aes(NULL,NULL,xmin=start,xmax=end),fill=\"#adb9ca\",\n",
    "            ymin=0,ymax=573, colour=\"white\", size=0.5, alpha=0.35)"
   ]
  },
  {
   "cell_type": "markdown",
   "metadata": {},
   "source": [
    "# 2.본론\n",
    "#### A. Delivery data로 유망 산업 살펴보기\n",
    "##### - 첫째로, 배달 호출 정보 데이터(delivery)를 이용해 유망 산업을 살펴보겠습니다.\n",
    "우선 필요한 데이터를 호출하고, 전처리를 진행해 봅시다."
   ]
  },
  {
   "cell_type": "markdown",
   "metadata": {},
   "source": [
    "### 전처리 - delivery"
   ]
  },
  {
   "cell_type": "code",
   "execution_count": 19,
   "metadata": {},
   "outputs": [
    {
     "name": "stderr",
     "output_type": "stream",
     "text": [
      "Note: Using an external vector in selections is ambiguous.\n",
      "i Use `all_of(code)` instead of `code` to silence this message.\n",
      "i See <https://tidyselect.r-lib.org/reference/faq-external-vector.html>.\n",
      "This message is displayed once per session.\n",
      "Note: Using an external vector in selections is ambiguous.\n",
      "i Use `all_of(id)` instead of `id` to silence this message.\n",
      "i See <https://tidyselect.r-lib.org/reference/faq-external-vector.html>.\n",
      "This message is displayed once per session.\n"
     ]
    },
    {
     "ename": "ERROR",
     "evalue": "Error: 크기가 39.4 Mb인 벡터를 할당할 수 없습니다\n",
     "output_type": "error",
     "traceback": [
      "Error: 크기가 39.4 Mb인 벡터를 할당할 수 없습니다\nTraceback:\n",
      "1. delivery %>% separate(PROCESS_DT, sep = \"-\", into = c(\"year\", \n .     \"month\", \"day\"), remove = FALSE)",
      "2. withVisible(eval(quote(`_fseq`(`_lhs`)), env, env))",
      "3. eval(quote(`_fseq`(`_lhs`)), env, env)",
      "4. eval(quote(`_fseq`(`_lhs`)), env, env)",
      "5. `_fseq`(`_lhs`)",
      "6. freduce(value, `_function_list`)",
      "7. withVisible(function_list[[k]](value))",
      "8. function_list[[k]](value)",
      "9. separate(., PROCESS_DT, sep = \"-\", into = c(\"year\", \"month\", \n .     \"day\"), remove = FALSE)",
      "10. separate.data.frame(., PROCESS_DT, sep = \"-\", into = c(\"year\", \n  .     \"month\", \"day\"), remove = FALSE)",
      "11. str_separate(value, into = into, sep = sep, convert = convert, \n  .     extra = extra, fill = fill)",
      "12. str_split_fixed(x, sep, length(into), extra = extra, fill = fill)",
      "13. str_split_n(value, sep, n_max = n_max)",
      "14. regmatches(x, m, invert = TRUE)",
      "15. unlist(lapply(m, attr, \"index.type\"))",
      "16. lapply(m, attr, \"index.type\")"
     ]
    }
   ],
   "source": [
    "delivery <- fread('delivery.csv', \n",
    "                  header = T, \n",
    "                  stringsAsFactors = F, \n",
    "                  data.table = F, \n",
    "                  encoding = 'UTF-8'\n",
    "                  )\n",
    "\n",
    "code = delivery %>% select(ends_with('code')) %>% colnames()\n",
    "id = c('SERIAL_NUMBER', colnames(select(delivery, ends_with('ID'))))\n",
    "\n",
    "delivery = delivery %>% select(-c(code, id))\n",
    "delivery = delivery %>% separate(PROCESS_DT, sep = '-', into = c('year', 'month', 'day'), remove = FALSE)\n",
    "\n",
    "rm(list = c('code', 'id'))"
   ]
  },
  {
   "cell_type": "markdown",
   "metadata": {},
   "source": [
    "#### a. 일자별 평균 배달 건수 및 매출 추이"
   ]
  },
  {
   "cell_type": "code",
   "execution_count": null,
   "metadata": {},
   "outputs": [],
   "source": [
    "index <- data.frame('period' = c('기', '승', '전-1', '전-2'),\n",
    "                    'start' = c('2020-01-01', '2020-02-22', '2020-03-08', '2020-05-06'),\n",
    "                    'end' = c('2020-02-22', '2020-03-08', '2020-05-06', '2020-06-21'))\n",
    "\n",
    "\n",
    "p1 <- delivery %>% group_by(PROCESS_DT) %>% \n",
    "  summarize(N = n()) %>% \n",
    "  ungroup() %>% \n",
    "  ggplot(aes(x = PROCESS_DT, y = N, group = 1)) + \n",
    "  geom_line(linetype = \"dashed\", color = 'black') + \n",
    "  geom_smooth(method = 'lm', se = FALSE, formula = y~x, color = 'firebrick', linetype = 'longdash') +\n",
    "  geom_point(color = \"red\", size = 1) +\n",
    "  geom_rect(data = index,\n",
    "            aes(NULL, NULL, fill = period, xmin = start, xmax = end), \n",
    "            ymin = 0, ymax = 47000, alpha=0.5) +\n",
    "  scale_fill_manual(values=c(\"기\" = \"#d6dce5\", \"승\" = \"#adb9ca\", '전-1' = '#d6dce5', '전-2' = '#adb9ca')) +\n",
    "  labs(x = \"일자\", y = '평균 배달 건수', title = '일별 평균 배달 건수', fill = '코로나 시기') +\n",
    "  scale_x_discrete(breaks = NULL) +\n",
    "  theme(legend.position = 'bottom', legend.box = 'vertical') + \n",
    "  theme(panel.background = element_rect(fill = \"white\" , color = \"black\"),\n",
    "        plot.title = element_text(face = \"bold\", hjust = 0.5, size =20),\n",
    "        text = element_text(face = \"bold\",hjust = 0.5,size =15),\n",
    "        plot.margin = margin(30,40,30,40))\n",
    "\n",
    "\n",
    "p2 <- delivery %>% filter(DLVR_REQUST_STTUS_VALUE == 1) %>% \n",
    "  mutate('SELL_AMOUNT' = GOODS_AMOUNT - DLVR_AMOUNT - CALL_RLAY_FEE_AMOUNT) %>% \n",
    "  group_by(PROCESS_DT) %>% \n",
    "  summarize(MEAN = mean(SELL_AMOUNT)) %>% \n",
    "  ungroup() %>% \n",
    "  ggplot(aes(x = PROCESS_DT, y = MEAN, group = 1)) + \n",
    "  geom_line(linetype = \"dashed\", color = 'black') + \n",
    "  geom_smooth(method = 'lm', se = FALSE, formula = y~x, color = 'firebrick', linetype = 'longdash') +\n",
    "  geom_point(color = \"red\", size = 1) +\n",
    "  geom_rect(data = index,\n",
    "            aes(NULL, NULL, fill = period, xmin = start, xmax = end), \n",
    "            ymin = 0, ymax = 45224, alpha=0.5) +\n",
    "  scale_fill_manual(values=c(\"기\" = \"#d6dce5\", \"승\" = \"#adb9ca\", '전-1' = '#d6dce5', '전-2' = '#adb9ca')) +\n",
    "  labs(x = \"일자\", y = '평균 배달 매출', title = '일별 평균 배달 매출', fill = '코로나 시기') +\n",
    "  scale_x_discrete(breaks = NULL) +\n",
    "  theme(legend.position = 'bottom', legend.box = 'vertical') + \n",
    "  theme(panel.background = element_rect(fill = \"white\" , color = \"black\"),\n",
    "        plot.title = element_text(face = \"bold\", hjust = 0.5, size =20),\n",
    "        text = element_text(face = \"bold\",hjust = 0.5,size =15),\n",
    "        plot.margin = margin(30,40,30,40))\n",
    "grid.arrange(p1, p2, ncol = 1)"
   ]
  },
  {
   "cell_type": "markdown",
   "metadata": {},
   "source": [
    "##### b. 코로나 심각 지역(서울, 경기도, 대구, 경상북도)와 그 외 지역 배달 건수 비교"
   ]
  },
  {
   "cell_type": "code",
   "execution_count": null,
   "metadata": {},
   "outputs": [],
   "source": [
    "delivery$bad = ifelse(delivery$DLVR_STORE_SIDO %in% c('경기도', '경상북도', '대구광역시', '서울'), 1, 0)\n",
    "\n",
    "delivery %>% \n",
    "  group_by(PROCESS_DT, bad) %>% \n",
    "  summarize(N = n()) %>% \n",
    "  ungroup() %>%\n",
    "  ggplot(aes(x = PROCESS_DT, y = N)) + \n",
    "  geom_line(aes(group = as.factor(bad), color = as.factor(bad)), size = 0.6) +\n",
    "  geom_smooth(aes(group = as.factor(bad), color = as.factor(bad)), \n",
    "              method = 'lm', se = FALSE, formula = y~x, linetype = 'longdash') +\n",
    "  geom_rect(data = index,\n",
    "            aes(NULL, NULL, fill = period, xmin = start, xmax = end), \n",
    "            ymin = 0, ymax = 30000, alpha=0.5) +\n",
    "  scale_fill_manual(values=c(\"기\" = \"#d6dce5\", \"승\" = \"#adb9ca\", '전-1' = '#d6dce5', '전-2' = '#adb9ca')) +\n",
    "  scale_linetype_discrete('코로나 심각 수준(지역)', labels = c('완만', '심각'), aes(Color = as.factor(bad))) +\n",
    "  scale_color_manual(labels = c('완만', '심각'),values=c( \"#1E3269\",\"#c00000\")) +\n",
    "  scale_x_discrete(breaks = NULL) +\n",
    "  labs(x = '일자', color = '코로나 심각 수준(지역)', y = '배달 건수', fill = '코로나 시기') +\n",
    "  ggtitle('코로나 심각지역 vs 완만지역 일별 배달건수') +\n",
    "  theme(legend.position = 'bottom', legend.box = 'vertical') + \n",
    "  theme(panel.background = element_rect(fill = \"white\" , color = \"black\"),\n",
    "        plot.title = element_text(face = \"bold\", hjust = 0.5, size =20),\n",
    "        text = element_text(face = \"bold\",hjust = 0.5,size =15),\n",
    "        plot.margin = margin(30,40,30,40))"
   ]
  },
  {
   "cell_type": "markdown",
   "metadata": {},
   "source": [
    "- 코로나 심각지역(서울, 경기도, 경상북도, 대구) 의 경우 배달 건수 증가 추세 가 더 가파르다는 것을 확인 할 수 있습니다.\n",
    "- 코로나 완만지역(그 외 지역) 의 경우 코로나 심각지역만큼은 아니지만 어느 정도 증가 추세를 확인 할 수 있습니다.\n",
    "#### 계절성 제거를 위해 월별로 나누어서 다시 확인해 보겠습니다."
   ]
  },
  {
   "cell_type": "markdown",
   "metadata": {},
   "source": [
    "### c. 배달 품목별 건수를 통한 유망 품목 확인"
   ]
  },
  {
   "cell_type": "code",
   "execution_count": null,
   "metadata": {},
   "outputs": [],
   "source": [
    "month_index <- data.frame('period' = c('기', '승', '전-1'),\n",
    "                          'start' = c('01', '02', '03'),\n",
    "                          'end' = c('02', '03', '05'))\n",
    "\n",
    "p1 <- delivery  %>% \n",
    "  filter(DLVR_REQUST_STTUS_VALUE == 1) %>% \n",
    "  mutate('SELL_AMOUNT' = GOODS_AMOUNT - DLVR_AMOUNT - CALL_RLAY_FEE_AMOUNT) %>% \n",
    "  group_by(month, DLVR_STORE_INDUTY_NM) %>% \n",
    "  summarise(MEAN = mean(SELL_AMOUNT)) %>% \n",
    "  ungroup() %>%\n",
    "  filter(month != \"06\") %>% \n",
    "  mutate('NEW_cate' = ifelse(DLVR_STORE_INDUTY_NM %in% c('심부름', '도시락') , 1, 0)) %>%  \n",
    "  ggplot(aes(x = month, y = MEAN)) +\n",
    "  geom_smooth(aes(group = DLVR_STORE_INDUTY_NM, \n",
    "                  color= DLVR_STORE_INDUTY_NM, \n",
    "                  linetype = as.factor(NEW_cate), \n",
    "                  size = as.factor(NEW_cate)), method = 'lm', se = FALSE, formula = y~x) +\n",
    "  geom_rect(data = month_index,\n",
    "            aes(NULL, NULL, fill = period, xmin = start, xmax = end), \n",
    "            ymin = 0, ymax = 33000, alpha=0.5) + \n",
    "  scale_fill_manual(values=c(\"기\" = \"#d6dce5\", \"승\" = \"#adb9ca\", '전-1' = '#d6dce5')) +\n",
    "  scale_linetype_manual(values=c(\"dashed\", \"solid\"),labels = c('그외', '심부름&도시락'))+\n",
    "  scale_size_manual(values = c(1, 1.1), guide = 'none') +\n",
    "  guides(color = FALSE) +\n",
    "  labs(x = '월', y = '평균 배달 매출', linetype = '매출 성장 추세', fill = '코로나 시기', color = '배달품목') +\n",
    "  ggtitle('배달품목별 월별 매출 변화 추세') +\n",
    "  theme(panel.background = element_rect(fill = \"white\" , color = \"black\"),\n",
    "        plot.title = element_text(face = \"bold\", hjust = 0.5, size =20),\n",
    "        text = element_text(face = \"bold\",hjust = 0.5,size =15),\n",
    "        plot.margin = margin(30,40,30,40))\n",
    "\n",
    "\n",
    "p2 <- delivery  %>%\n",
    "  filter(DLVR_REQUST_STTUS_VALUE == 1) %>% \n",
    "  mutate('SELL_AMOUNT' = GOODS_AMOUNT - DLVR_AMOUNT - CALL_RLAY_FEE_AMOUNT) %>% \n",
    "  group_by(month, DLVR_STORE_INDUTY_NM) %>% \n",
    "  summarise(MEAN = mean(SELL_AMOUNT)) %>% \n",
    "  ungroup() %>% \n",
    "  filter(month != \"06\") %>%\n",
    "  filter(DLVR_STORE_INDUTY_NM %in% c('심부름', '도시락')) %>% \n",
    "  ggplot(aes(x = month, y = MEAN)) +\n",
    "  geom_line(aes(group = DLVR_STORE_INDUTY_NM, color= DLVR_STORE_INDUTY_NM)) +\n",
    "  geom_point(aes(group = DLVR_STORE_INDUTY_NM, color= DLVR_STORE_INDUTY_NM) ,size = 1) + \n",
    "  geom_smooth(aes(group = DLVR_STORE_INDUTY_NM, color= DLVR_STORE_INDUTY_NM), \n",
    "              method = 'lm', se = FALSE, formula = y~x, linetype = 'longdash') +\n",
    "  geom_rect(data = month_index,\n",
    "            aes(NULL, NULL, fill = period, xmin = start, xmax = end), \n",
    "            ymin = 0, ymax = 30000, alpha=0.5) + \n",
    "  scale_fill_manual(values=c(\"기\" = \"#d6dce5\", \"승\" = \"#adb9ca\", '전-1' = '#d6dce5')) +\n",
    "  scale_color_manual(values=c( \"#1E3269\",\"#c00000\")) +\n",
    "  labs(x = '월', y = '평균 배달 매출', fill = '코로나 시기', color = '배달품목') +\n",
    "  ggtitle('배달품목별 월별 매출 변화 추세') +\n",
    "  theme(panel.background = element_rect(fill = \"white\" , color = \"black\"),\n",
    "        plot.title = element_text(face = \"bold\", hjust = 0.5, size =20),\n",
    "        text = element_text(face = \"bold\",hjust = 0.5,size =15),\n",
    "        plot.margin = margin(30,40,30,40))\n",
    "\n",
    "\n",
    "\n",
    "grid.arrange(p1, p2, ncol = 1)"
   ]
  },
  {
   "cell_type": "markdown",
   "metadata": {},
   "source": [
    "- 6월달의 경우 6월 21일까지 밖에 없어 제외하고 추세 확인\n",
    "- 심부름&도시락 품목이 다른 품목들에 비해 두드러지게 배달 건수가 증가하는 것 을 확인 할 수 있습니다.\n",
    "- 도시락 같은 경우 기~승 단계에 급격히 증가하는 추세 를 확인 할 수 있습니다.\n",
    "- 심부름 같은 경우 전-1 단계에서 급격히 증가하는 추세 를 확인 할 수 있습니다.\n",
    "- 심부름&도시락 과 다른 품목들의 배달 매출과 증가율을 확인해 보겠습니다."
   ]
  },
  {
   "cell_type": "code",
   "execution_count": null,
   "metadata": {},
   "outputs": [],
   "source": []
  },
  {
   "cell_type": "markdown",
   "metadata": {},
   "source": [
    "## d. 도시락,심부름 vs 그외품목 : \n",
    "##### 월별 건수>% \n",
    "##### mutate('SELL_AMOUNT' = GOODS_AMOUNT - DLVR_AMOUNT - CALL_RLAY_FEE_AMOUNT)\n",
    "##### %>% mutate('NEW_cate' = ifelse(DLVR_STORE_INDUTY_NM %in% c('심부름', '도시락') , 1, 0))"
   ]
  },
  {
   "cell_type": "code",
   "execution_count": null,
   "metadata": {},
   "outputs": [],
   "source": [
    "p1 <- delivery %>% group_by(month, NEW_cate) %>% \n",
    "  summarise(MEAN = mean(SELL_AMOUNT)) %>% \n",
    "  ungroup() %>% \n",
    "  filter(month != \"06\") %>% \n",
    "  ggplot(aes(x = month, y = MEAN)) +\n",
    "  geom_line(aes(group = as.factor(NEW_cate), color = as.factor(NEW_cate))) +\n",
    "  geom_point(aes(group = as.factor(NEW_cate), color = as.factor(NEW_cate)), size = 1) +\n",
    "  geom_smooth(aes(group = as.factor(NEW_cate), color = as.factor(NEW_cate)),\n",
    "              method = 'lm', se = FALSE, formula = y~x, linetype = 'longdash') +\n",
    "  geom_rect(data = month_index,\n",
    "            aes(NULL, NULL, fill = period, xmin = start, xmax = end), \n",
    "            ymin = 0, ymax = 33000, alpha=0.5) + \n",
    "  scale_fill_manual(values=c(\"기\" = \"#d6dce5\", \"승\" = \"#adb9ca\", '전-1' = '#d6dce5')) +\n",
    "  scale_color_manual(labels = c('그외', '심부름&도시락'), values=c( \"#1E3269\",\"#c00000\")) +\n",
    "  labs(x = '월', color = '배달품목', y = '월별 평균 배달 매출', fill = '코로나 시기') +\n",
    "  ggtitle('배달품목별 월별 매출 변화 추세') +\n",
    "  theme(panel.background = element_rect(fill = \"white\" , color = \"black\"),\n",
    "        plot.title = element_text(face = \"bold\", hjust = 0.5, size =20),\n",
    "        text = element_text(face = \"bold\",hjust = 0.5,size =15),\n",
    "        plot.margin = margin(30,40,30,40))\n",
    "\n",
    "\n",
    "p2 <- delivery %>% group_by(month, NEW_cate) %>% \n",
    "  summarise(MEAN = mean(n())) %>%\n",
    "  ungroup() %>%\n",
    "  filter(month != \"06\") %>% \n",
    "  ggplot(aes(x = month, y = MEAN)) +\n",
    "  geom_line(aes(group = as.factor(NEW_cate), color = as.factor(NEW_cate))) +\n",
    "  geom_point(aes(group = as.factor(NEW_cate), color = as.factor(NEW_cate)), size = 1) +\n",
    "  geom_smooth(aes(group = as.factor(NEW_cate), color = as.factor(NEW_cate)),\n",
    "              method = 'lm', se = FALSE, formula = y~x, linetype = 'longdash') +\n",
    "  geom_rect(data = month_index,\n",
    "            aes(NULL, NULL, fill = period, xmin = start, xmax = end), \n",
    "            ymin = -1000000, ymax = 1200000, alpha=0.5) +\n",
    "  scale_fill_manual(values=c(\"기\" = \"#d6dce5\", \"승\" = \"#adb9ca\", '전-1' = '#d6dce5')) +\n",
    "  scale_color_manual(labels = c('그외', '심부름&도시락'), values=c( \"#1E3269\",\"#c00000\")) +\n",
    "  labs(x = '월', color = '배달품목', y = '월별 배달 건수', fill = '코로나 시기') +\n",
    "  ggtitle('배달품목별 월별 건수 변화 추세') +\n",
    "  theme(panel.background = element_rect(fill = \"white\" , color = \"black\"),\n",
    "        plot.title = element_text(face = \"bold\", hjust = 0.5, size =20),\n",
    "        text = element_text(face = \"bold\",hjust = 0.5,size =15),\n",
    "        plot.margin = margin(30,40,30,40))\n",
    "\n",
    "grid.arrange(p1, p2, ncol = 1)"
   ]
  },
  {
   "cell_type": "markdown",
   "metadata": {},
   "source": [
    "## e. 도시락,심부름 : 월별 건수 변화 및 추세"
   ]
  },
  {
   "cell_type": "code",
   "execution_count": null,
   "metadata": {},
   "outputs": [],
   "source": [
    "delivery %>% group_by(month, NEW_cate) %>% \n",
    "  summarise(MEAN = mean(n())) %>%\n",
    "  ungroup() %>%\n",
    "  filter(month != \"06\") %>%\n",
    "  filter(NEW_cate == 1) %>% \n",
    "  ggplot(aes(x = month, y = MEAN)) +\n",
    "  geom_line(group = 1, color = \"#c00000\") +\n",
    "  geom_point(group = 1, color = \"#c00000\", size = 1) +\n",
    "  geom_smooth(aes(group = 1), \n",
    "              color = \"#c00000\", method = 'lm', se = FALSE, formula = y ~ x + I(x^2), linetype = 'longdash') +\n",
    "  geom_rect(data = month_index,\n",
    "            aes(NULL, NULL, fill = period, xmin = start, xmax = end), \n",
    "            ymin = 0, ymax = 15000, alpha=0.5) +\n",
    "  scale_fill_manual(values=c(\"기\" = \"#d6dce5\", \"승\" = \"#adb9ca\", '전-1' = '#d6dce5')) +\n",
    "  labs(x = '월', y = '월별 배달 건수', fill = '코로나 시기') +\n",
    "  ggtitle('도시락&심부름 : 월별 건수 변화 및 추세') +\n",
    "  theme(legend.position = 'bottom') +\n",
    "  theme(panel.background = element_rect(fill = \"white\" , color = \"black\"),\n",
    "        plot.title = element_text(face = \"bold\", hjust = 0.5, size =20),\n",
    "        text = element_text(face = \"bold\",hjust = 0.5,size =15),\n",
    "        plot.margin = margin(30,30,30,30))"
   ]
  },
  {
   "cell_type": "code",
   "execution_count": null,
   "metadata": {},
   "outputs": [],
   "source": [
    "- 6월달의 경우 6월 21일까지 밖에 없어 제외하고 확인\n",
    "- 심부름&도시락 품목이 다른 품목들에 비해 확연하게 배달 매출이 증가한 것 을 확인 할 수 있습니다.\n",
    "- 코로나로 인해 직장인들이 밖에서가 아닌 회사 내부에서 점심을 해결하는 경향이 증가 해서 도시락&배달 심부름 이 증가한 것이 아닌가 유추할 수 있습니다\n",
    "- 흥미로운 점은 심부름&도시락 품목의 월별 배달 건수는 오목 함수(Concave) 형태라는 것 입니다.\n",
    "- 이는 직장이들이 한번에 대량으로 점심 식사를 주문 해서 그런 것 아닌가 하고 유추할 수 있습니다.\n",
    "- 결론적으로 직장인들의 대량적인 점심식사 소비 가 심부름&도시락 매출 증가 에 큰 영향을 끼쳤다고 유추 할 수 있습니다."
   ]
  },
  {
   "cell_type": "code",
   "execution_count": null,
   "metadata": {},
   "outputs": [],
   "source": []
  },
  {
   "cell_type": "code",
   "execution_count": null,
   "metadata": {},
   "outputs": [],
   "source": []
  },
  {
   "cell_type": "code",
   "execution_count": null,
   "metadata": {},
   "outputs": [],
   "source": []
  },
  {
   "cell_type": "code",
   "execution_count": null,
   "metadata": {},
   "outputs": [],
   "source": []
  },
  {
   "cell_type": "code",
   "execution_count": null,
   "metadata": {},
   "outputs": [],
   "source": []
  },
  {
   "cell_type": "code",
   "execution_count": null,
   "metadata": {},
   "outputs": [],
   "source": []
  },
  {
   "cell_type": "code",
   "execution_count": null,
   "metadata": {},
   "outputs": [],
   "source": []
  },
  {
   "cell_type": "code",
   "execution_count": null,
   "metadata": {},
   "outputs": [],
   "source": []
  },
  {
   "cell_type": "code",
   "execution_count": null,
   "metadata": {},
   "outputs": [],
   "source": []
  },
  {
   "cell_type": "code",
   "execution_count": null,
   "metadata": {},
   "outputs": [],
   "source": []
  },
  {
   "cell_type": "code",
   "execution_count": null,
   "metadata": {},
   "outputs": [],
   "source": []
  },
  {
   "cell_type": "code",
   "execution_count": null,
   "metadata": {},
   "outputs": [],
   "source": []
  },
  {
   "cell_type": "code",
   "execution_count": null,
   "metadata": {},
   "outputs": [],
   "source": []
  },
  {
   "cell_type": "code",
   "execution_count": null,
   "metadata": {},
   "outputs": [],
   "source": []
  },
  {
   "cell_type": "code",
   "execution_count": null,
   "metadata": {},
   "outputs": [],
   "source": []
  },
  {
   "cell_type": "code",
   "execution_count": null,
   "metadata": {},
   "outputs": [],
   "source": []
  },
  {
   "cell_type": "code",
   "execution_count": null,
   "metadata": {},
   "outputs": [],
   "source": []
  },
  {
   "cell_type": "code",
   "execution_count": null,
   "metadata": {},
   "outputs": [],
   "source": []
  },
  {
   "cell_type": "code",
   "execution_count": null,
   "metadata": {},
   "outputs": [],
   "source": []
  },
  {
   "cell_type": "code",
   "execution_count": null,
   "metadata": {},
   "outputs": [],
   "source": []
  }
 ],
 "metadata": {
  "kernelspec": {
   "display_name": "R",
   "language": "R",
   "name": "ir"
  },
  "language_info": {
   "codemirror_mode": "r",
   "file_extension": ".r",
   "mimetype": "text/x-r-source",
   "name": "R",
   "pygments_lexer": "r",
   "version": "3.6.1"
  }
 },
 "nbformat": 4,
 "nbformat_minor": 4
}
