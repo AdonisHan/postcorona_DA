{
 "cells": [
  {
   "cell_type": "code",
   "execution_count": 1,
   "metadata": {},
   "outputs": [
    {
     "name": "stderr",
     "output_type": "stream",
     "text": [
      "Warning message:\n",
      "\"package 'ggplot2' was built under R version 3.6.3\""
     ]
    }
   ],
   "source": [
    "library(ggplot2)"
   ]
  },
  {
   "cell_type": "code",
   "execution_count": 2,
   "metadata": {},
   "outputs": [
    {
     "name": "stderr",
     "output_type": "stream",
     "text": [
      "Warning message:\n",
      "\"package 'rgdal' was built under R version 3.6.3\"Warning message:\n",
      "\"package 'sp' was built under R version 3.6.3\"Warning message:\n",
      "\"package 'ggmap' was built under R version 3.6.3\"Warning message:\n",
      "\"package 'maptools' was built under R version 3.6.3\"Warning message:\n",
      "\"package 'viridis' was built under R version 3.6.3\"Warning message:\n",
      "\"package 'magrittr' was built under R version 3.6.3\"Warning message:\n",
      "\"package 'scales' was built under R version 3.6.3\"Warning message:\n",
      "\"package 'gridExtra' was built under R version 3.6.3\"Warning message:\n",
      "\"package 'data.table' was built under R version 3.6.3\"Warning message:\n",
      "\"package 'tidyverse' was built under R version 3.6.3\"Warning message:\n",
      "\"package 'tibble' was built under R version 3.6.3\"Warning message:\n",
      "\"package 'tidyr' was built under R version 3.6.3\"Warning message:\n",
      "\"package 'purrr' was built under R version 3.6.3\"Warning message:\n",
      "\"package 'dplyr' was built under R version 3.6.3\"Warning message:\n",
      "\"package 'lubridate' was built under R version 3.6.3\"Warning message:\n",
      "\"package 'factoextra' was built under R version 3.6.3\"Warning message:\n",
      "\"package 'tfplot' was built under R version 3.6.3\"Warning message:\n",
      "\"package 'tsfa' was built under R version 3.6.3\"Warning message:\n",
      "\"package 'dse' was built under R version 3.6.3\"Warning message:\n",
      "\"package 'EvalEst' was built under R version 3.6.3\"Warning message:\n",
      "\"package 'cluster' was built under R version 3.6.3\"Warning message:\n",
      "\"package 'IRdisplay' was built under R version 3.6.3\"Warning message:\n",
      "\"package 'extrafont' was built under R version 3.6.2\"Warning message:\n",
      "\"package 'showtext' was built under R version 3.6.3\"Warning message:\n",
      "\"package 'sysfonts' was built under R version 3.6.3\"Warning message:\n",
      "\"package 'showtextdb' was built under R version 3.6.3\""
     ]
    },
    {
     "data": {
      "text/html": [
       "'C:/postcorona_DA/data'"
      ],
      "text/latex": [
       "'C:/postcorona\\_DA/data'"
      ],
      "text/markdown": [
       "'C:/postcorona_DA/data'"
      ],
      "text/plain": [
       "[1] \"C:/postcorona_DA/data\""
      ]
     },
     "metadata": {},
     "output_type": "display_data"
    },
    {
     "name": "stderr",
     "output_type": "stream",
     "text": [
      "Warning message in OGRSpatialRef(dsn, layer, morphFromESRI = morphFromESRI, dumpSRS = dumpSRS, :\n",
      "\"Discarded datum International_Terrestrial_Reference_Frame_2000 in CRS definition: +proj=tmerc +lat_0=38 +lon_0=127.5 +k=0.9996 +x_0=1000000 +y_0=2000000 +ellps=GRS80 +units=m +no_defs\""
     ]
    },
    {
     "name": "stdout",
     "output_type": "stream",
     "text": [
      "OGR data source with driver: ESRI Shapefile \n",
      "Source: \"C:\\postcorona_DA\\data\\지도\\CTPRVN.shp\", layer: \"CTPRVN\"\n",
      "with 17 features\n",
      "It has 3 fields\n"
     ]
    },
    {
     "name": "stderr",
     "output_type": "stream",
     "text": [
      "Regions defined for each Polygons\n"
     ]
    },
    {
     "name": "stdout",
     "output_type": "stream",
     "text": [
      "'data.frame':\t811814 obs. of  7 variables:\n",
      " $ long : num  966987 966987 966961 966931 966902 ...\n",
      " $ lat  : num  1941111 1941111 1941130 1941165 1941188 ...\n",
      " $ order: int  1 2 3 4 5 6 7 8 9 10 ...\n",
      " $ hole : logi  FALSE FALSE FALSE FALSE FALSE FALSE ...\n",
      " $ piece: Factor w/ 2222 levels \"1\",\"2\",\"3\",\"4\",..: 1 1 1 1 1 1 1 1 1 1 ...\n",
      " $ id   : chr  \"0\" \"0\" \"0\" \"0\" ...\n",
      " $ group: Factor w/ 4724 levels \"0.1\",\"1.1\",\"1.2\",..: 1 1 1 1 1 1 1 1 1 1 ...\n"
     ]
    },
    {
     "name": "stderr",
     "output_type": "stream",
     "text": [
      "`summarise()` ungrouping output (override with `.groups` argument)\n"
     ]
    },
    {
     "data": {
      "image/png": "[encoded data removed]",
      "text/plain": [
       "plot without title"
      ]
     },
     "metadata": {},
     "output_type": "display_data"
    }
   ],
   "source": [
    "\n",
    "# 1 : preparation ---------------------------------------------------------\n",
    "suppressPackageStartupMessages({ \n",
    "  library(rgdal,warn.conflicts = FALSE, quietly = TRUE, verbose = FALSE)\n",
    "  library(ggmap,warn.conflicts = FALSE, quietly = TRUE, verbose = FALSE)\n",
    "  library(sp,warn.conflicts = FALSE, quietly = TRUE, verbose = FALSE)\n",
    "  library(maptools,warn.conflicts = FALSE, quietly = TRUE, verbose = FALSE)\n",
    "  library(viridis,warn.conflicts = FALSE, quietly = TRUE, verbose = FALSE)\n",
    "  library(magrittr,warn.conflicts = FALSE, quietly = TRUE, verbose = FALSE)\n",
    "  library(scales,warn.conflicts = FALSE, quietly = TRUE, verbose = FALSE)\n",
    "  library(gridExtra,warn.conflicts = FALSE, quietly = TRUE, verbose = FALSE)\n",
    "  library(data.table, warn.conflicts = FALSE, quietly = TRUE, verbose = FALSE)\n",
    "  library(tidyverse, warn.conflicts = FALSE, quietly = TRUE, verbose = FALSE)\n",
    "  library(lubridate, warn.conflicts = FALSE, quietly = TRUE, verbose = FALSE)\n",
    "  library(gridExtra, warn.conflicts = FALSE, quietly = TRUE, verbose = FALSE)\n",
    "  library(factoextra, warn.conflicts = FALSE, quietly = TRUE, verbose = FALSE)\n",
    "  library(tfplot, warn.conflicts = FALSE, quietly = TRUE, verbose = FALSE)\n",
    "  library(tsfa, warn.conflicts = FALSE, quietly = TRUE, verbose = FALSE)\n",
    "  library(factoextra, warn.conflicts = FALSE, quietly = TRUE, verbose = FALSE)\n",
    "  library(cluster, warn.conflicts = FALSE, quietly = TRUE, verbose = FALSE)\n",
    "  library(IRdisplay, warn.conflicts = FALSE, quietly = TRUE, verbose = FALSE)\n",
    "  library(foreign,warn.conflicts = FALSE, quietly = TRUE, verbose = FALSE)\n",
    "  library(extrafont,warn.conflicts = FALSE, quietly = TRUE, verbose = FALSE)\n",
    "  library(showtext,warn.conflicts = FALSE, quietly = TRUE, verbose = FALSE)\n",
    "  library(grid,warn.conflicts = FALSE, quietly = TRUE, verbose = FALSE)\n",
    "})\n",
    "\n",
    "\n",
    "setwd('C:/postcorona_DA/data')\n",
    "getwd()\n",
    "# 2 : EDA -----------------------------------------------------------------\n",
    "\n",
    "# 2-1 ---------------------------------------------------------------------\n",
    "# A. 코로나19 사태 기본 분석\n",
    "# 지역별, 나이대별, 성별 확진자 시각화\n",
    "# a. 지역별 확진자 시각화 해석\n",
    "# 지역별 확진자의 비율을 파악해 보도록 하겠습니다. \n",
    "# 먼저, 어떤 지역이 코로나 심각 지역인지 알아보기 위해 지역별 확진자의 수를 지도 위에 표시해 보도록 하겠습니다.\n",
    "\n",
    "# C:/postcorona_DA/data/ =>C:/postcorona_DA/data/\n",
    "\n",
    "#행정구역 지도를 가져와 줍니다.\n",
    "korea_map_shp = rgdal::readOGR(\"C:/postcorona_DA/data/지도/CTPRVN.shp\")\n",
    "korea_map = fortify(korea_map_shp)\n",
    "\n",
    "\n",
    "korea_map %>% str()\n",
    "\n",
    "#지역별 확진자 수를 지도에 표시하기 위해 확진자 수 데이터를 가져오고, 알맞게 전처리해 줍니다.\n",
    "\n",
    "TimeProvince <-fread('C:/postcorona_DA/data/COVID_19/TimeProvince.csv',\n",
    "                     stringsAsFactors=FALSE, \n",
    "                     encoding = \"UTF-8\")\n",
    "\n",
    "TimeProvince$date <- as.Date(TimeProvince$date)\n",
    "TimeProvince$date <- as.character(TimeProvince$date,'%m/%d')\n",
    "\n",
    "TimeProvince$province=TimeProvince$province %>% as.factor()\n",
    "\n",
    "confirm_added=TimeProvince %>%\n",
    "  group_by(province)%>% \n",
    "  summarize(N=max(confirmed))\n",
    "\n",
    "confirm_added$province=plyr::revalue(confirm_added$province,c(\"서울\"=\"0\",\"부산\"=\"1\",\"대구\"=\"2\",\n",
    "                                                              \"인천\"=\"3\",\"광주\"=\"4\",\"대전\"=\"5\",\n",
    "                                                              \"울산\"=\"6\",\"세종\"=\"7\",\"경기도\"=\"8\",\n",
    "                                                              \"강원도\"=\"9\",\"충청북도\"=\"10\",\"충청남도\"=\"11\",\n",
    "                                                              \"전라북도\"=\"12\",\"전라남도\"=\"13\",\"경상북도\"=\"14\",\n",
    "                                                              \"경상남도\"=\"15\",\"제주도\"=\"16\"))\n",
    "\n",
    "\n",
    "colnames(confirm_added)<-c(\"id\",\"confirmed\")\n",
    "\n",
    "\n",
    "# 2-2 확진자 + 지도데이터 ---------------------------------------------------------\n",
    "\n",
    "# 지도 데이터와 확진자 수 데이터를 해당하는 지역에 알맞게 병합하고, 지도에 나타내 줍니다.\n",
    "# 각 지역별로 확진자 수를 넣고, 심각도에 따라 진한 색으로 나타내어 주었습니다.\n",
    "# 서울, 경기, 경북, 그리고 대구가 코로나 19 확진자가 가장 많은 심각 지역인 것으로 보입니다.\n",
    "\n",
    "korea_map=merge(korea_map,confirm_added, by=\"id\")\n",
    "mycorona=ggplot() + geom_polygon(data=korea_map, aes(x=long, y=lat, group=group, fill=confirmed))\n",
    "mycorona+scale_fill_gradient(low = \"#F1C5C5\", high = \"#D92027\")+ \n",
    "  theme_bw() +\n",
    "  theme(panel.grid.major.x = element_blank(), panel.grid.minor.x = element_blank(), \n",
    "        panel.grid.major.y = element_blank(), panel.grid.minor.y = element_blank(), \n",
    "        plot.title = element_text(face = \"bold\", size = 18, hjust = 0.5))\n",
    "\n",
    "\n",
    "\n",
    "\n",
    "\n"
   ]
  },
  {
   "cell_type": "code",
   "execution_count": null,
   "metadata": {},
   "outputs": [],
   "source": []
  }
 ],
 "metadata": {
  "kernelspec": {
   "display_name": "R",
   "language": "R",
   "name": "ir"
  },
  "language_info": {
   "codemirror_mode": "r",
   "file_extension": ".r",
   "mimetype": "text/x-r-source",
   "name": "R",
   "pygments_lexer": "r",
   "version": "3.6.1"
  }
 },
 "nbformat": 4,
 "nbformat_minor": 4
}
